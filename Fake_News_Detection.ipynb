{
  "cells": [
    {
      "cell_type": "markdown",
      "id": "1af3045e",
      "metadata": {
        "id": "1af3045e"
      },
      "source": [
        "# 📰 Fake News Detection"
      ]
    },
    {
      "cell_type": "markdown",
      "source": [
        "##Import Libraries"
      ],
      "metadata": {
        "id": "IDQSX14alcE4"
      },
      "id": "IDQSX14alcE4"
    },
    {
      "cell_type": "code",
      "execution_count": null,
      "id": "b188d426",
      "metadata": {
        "id": "b188d426"
      },
      "outputs": [],
      "source": [
        "\n",
        "import pandas as pd\n",
        "import numpy as np\n",
        "import re\n",
        "import string\n",
        "import matplotlib.pyplot as plt\n",
        "import seaborn as sns\n",
        "\n",
        "from sklearn.model_selection import train_test_split\n",
        "from sklearn.feature_extraction.text import TfidfVectorizer\n",
        "from sklearn.naive_bayes import MultinomialNB\n",
        "from sklearn.ensemble import RandomForestClassifier\n",
        "from sklearn.metrics import accuracy_score, classification_report, confusion_matrix\n",
        "\n",
        "from tensorflow.keras.preprocessing.text import Tokenizer\n",
        "from tensorflow.keras.preprocessing.sequence import pad_sequences\n",
        "from tensorflow.keras.models import Sequential\n",
        "from tensorflow.keras.layers import Embedding, LSTM, Dense, Dropout\n",
        "\n"
      ]
    },
    {
      "cell_type": "markdown",
      "source": [
        "##Read Dataset"
      ],
      "metadata": {
        "id": "WWa_BM-olgIE"
      },
      "id": "WWa_BM-olgIE"
    },
    {
      "cell_type": "code",
      "execution_count": null,
      "id": "13097bf2",
      "metadata": {
        "id": "13097bf2"
      },
      "outputs": [],
      "source": [
        "\n",
        "df_fake = pd.read_csv(\"Fake.csv\", on_bad_lines='skip')\n",
        "df_real = pd.read_csv(\"True.csv\", on_bad_lines='skip')\n",
        "\n",
        "\n",
        "df_fake[\"label\"] = 0\n",
        "df_real[\"label\"] = 1\n",
        "\n",
        "df = pd.concat([df_fake, df_real]).sample(frac=1, random_state=42).reset_index(drop=True)\n",
        "df = df[['text', 'label']]\n",
        "df.dropna(inplace=True)\n"
      ]
    },
    {
      "cell_type": "markdown",
      "source": [
        "##Feature Extraction"
      ],
      "metadata": {
        "id": "KJw0aFhdlkbw"
      },
      "id": "KJw0aFhdlkbw"
    },
    {
      "cell_type": "code",
      "execution_count": null,
      "id": "ade31411",
      "metadata": {
        "id": "ade31411"
      },
      "outputs": [],
      "source": [
        "\n",
        "from sklearn.feature_extraction import text\n",
        "\n",
        "stop_words = text.ENGLISH_STOP_WORDS\n",
        "\n",
        "def preprocess(text):\n",
        "    text = text.lower()\n",
        "    text = re.sub(r'<.*?>', '', text)\n",
        "    text = re.sub(r'\\d+', '', text)\n",
        "    text = text.translate(str.maketrans('', '', string.punctuation))\n",
        "    tokens = text.split()\n",
        "    tokens = [word for word in tokens if word not in stop_words]\n",
        "    return ' '.join(tokens)\n",
        "\n",
        "df['clean_text'] = df['text'].apply(preprocess)\n"
      ]
    },
    {
      "cell_type": "markdown",
      "source": [
        "##Pre-Processing"
      ],
      "metadata": {
        "id": "3w-UkY-rloa6"
      },
      "id": "3w-UkY-rloa6"
    },
    {
      "cell_type": "code",
      "execution_count": null,
      "id": "67616a9f",
      "metadata": {
        "id": "67616a9f"
      },
      "outputs": [],
      "source": [
        "\n",
        "X = df['clean_text']\n",
        "y = df['label']\n",
        "\n",
        "tfidf = TfidfVectorizer(max_features=5000)\n",
        "X_tfidf = tfidf.fit_transform(X)\n",
        "\n",
        "X_train, X_test, y_train, y_test = train_test_split(X_tfidf, y, test_size=0.2, random_state=42)\n"
      ]
    },
    {
      "cell_type": "markdown",
      "source": [
        "##Model Training"
      ],
      "metadata": {
        "id": "j_8TtgOll2-c"
      },
      "id": "j_8TtgOll2-c"
    },
    {
      "cell_type": "code",
      "execution_count": null,
      "id": "6cf37f1b",
      "metadata": {
        "colab": {
          "base_uri": "https://localhost:8080/"
        },
        "id": "6cf37f1b",
        "outputId": "49433fee-d873-42d6-80ac-7228373c42c0"
      },
      "outputs": [
        {
          "name": "stdout",
          "output_type": "stream",
          "text": [
            "Random Forest Accuracy: 0.9976614699331848\n",
            "Naive Bayes Accuracy: 0.9418708240534521\n"
          ]
        }
      ],
      "source": [
        "\n",
        "rf = RandomForestClassifier()\n",
        "nb_model = MultinomialNB()\n",
        "\n",
        "rf.fit(X_train, y_train)\n",
        "nb_model.fit(X_train, y_train)\n",
        "\n",
        "rf_preds = rf.predict(X_test)\n",
        "nb_preds = nb_model.predict(X_test)\n",
        "\n",
        "print(\"Random Forest Accuracy:\", accuracy_score(y_test, rf_preds))\n",
        "print(\"Naive Bayes Accuracy:\", accuracy_score(y_test, nb_preds))\n"
      ]
    },
    {
      "cell_type": "code",
      "execution_count": null,
      "id": "1d93fde1",
      "metadata": {
        "colab": {
          "base_uri": "https://localhost:8080/",
          "height": 927
        },
        "id": "1d93fde1",
        "outputId": "d9d362ea-f5ed-46d6-c485-736fab55e771"
      },
      "outputs": [
        {
          "data": {
            "image/png": "[encoded data removed]",
            "text/plain": [
              "<Figure size 640x480 with 2 Axes>"
            ]
          },
          "metadata": {},
          "output_type": "display_data"
        },
        {
          "data": {
            "image/png": "[encoded data removed]",
            "text/plain": [
              "<Figure size 640x480 with 2 Axes>"
            ]
          },
          "metadata": {},
          "output_type": "display_data"
        }
      ],
      "source": [
        "\n",
        "def plot_conf_matrix(y_true, y_pred, title):\n",
        "    cm = confusion_matrix(y_true, y_pred)\n",
        "    sns.heatmap(cm, annot=True, fmt='d', cmap='Blues')\n",
        "    plt.title(f'Confusion Matrix - {title}')\n",
        "    plt.xlabel('Predicted')\n",
        "    plt.ylabel('Actual')\n",
        "    plt.show()\n",
        "\n",
        "plot_conf_matrix(y_test, rf_preds, \"Random Forest\")\n",
        "plot_conf_matrix(y_test, nb_preds, \"Naive Bayes\")\n"
      ]
    },
    {
      "cell_type": "code",
      "execution_count": null,
      "id": "hfIya6JlXt-r",
      "metadata": {
        "id": "hfIya6JlXt-r"
      },
      "outputs": [],
      "source": [
        "from tensorflow.keras.utils import to_categorical\n"
      ]
    },
    {
      "cell_type": "code",
      "execution_count": null,
      "id": "72c6611f",
      "metadata": {
        "id": "72c6611f"
      },
      "outputs": [],
      "source": [
        "\n",
        "max_words = 10000\n",
        "max_len = 300\n",
        "\n",
        "tokenizer = Tokenizer(num_words=max_words)\n",
        "tokenizer.fit_on_texts(df['clean_text'])\n",
        "\n",
        "X_seq = tokenizer.texts_to_sequences(df['clean_text'])\n",
        "X_pad = pad_sequences(X_seq, maxlen=max_len)\n",
        "y_cat = to_categorical(df['label'])\n",
        "\n",
        "X_train_seq, X_test_seq, y_train_seq, y_test_seq = train_test_split(X_pad, y_cat, test_size=0.2, random_state=42)\n"
      ]
    },
    {
      "cell_type": "code",
      "execution_count": null,
      "id": "7e6ab3d5",
      "metadata": {
        "colab": {
          "background_save": true,
          "base_uri": "https://localhost:8080/"
        },
        "id": "7e6ab3d5",
        "outputId": "b0b0815f-4253-4f71-e20e-e37b310b8ff2"
      },
      "outputs": [
        {
          "name": "stderr",
          "output_type": "stream",
          "text": [
            "/usr/local/lib/python3.11/dist-packages/keras/src/layers/core/embedding.py:90: UserWarning: Argument `input_length` is deprecated. Just remove it.\n",
            "  warnings.warn(\n"
          ]
        },
        {
          "name": "stdout",
          "output_type": "stream",
          "text": [
            "Epoch 1/3\n",
            "\u001b[1m562/562\u001b[0m \u001b[32m━━━━━━━━━━━━━━━━━━━━\u001b[0m\u001b[37m\u001b[0m \u001b[1m281s\u001b[0m 489ms/step - accuracy: 0.9032 - loss: 0.2195 - val_accuracy: 0.9849 - val_loss: 0.0531\n",
            "Epoch 2/3\n",
            "\u001b[1m562/562\u001b[0m \u001b[32m━━━━━━━━━━━━━━━━━━━━\u001b[0m\u001b[37m\u001b[0m \u001b[1m319s\u001b[0m 485ms/step - accuracy: 0.9844 - loss: 0.0495 - val_accuracy: 0.9905 - val_loss: 0.0375\n",
            "Epoch 3/3\n",
            "\u001b[1m562/562\u001b[0m \u001b[32m━━━━━━━━━━━━━━━━━━━━\u001b[0m\u001b[37m\u001b[0m \u001b[1m317s\u001b[0m 477ms/step - accuracy: 0.9928 - loss: 0.0243 - val_accuracy: 0.9930 - val_loss: 0.0258\n"
          ]
        },
        {
          "data": {
            "text/plain": [
              "<keras.src.callbacks.history.History at 0x7edc4e764250>"
            ]
          },
          "execution_count": 13,
          "metadata": {},
          "output_type": "execute_result"
        }
      ],
      "source": [
        "\n",
        "model = Sequential()\n",
        "model.add(Embedding(input_dim=max_words, output_dim=64, input_length=max_len))\n",
        "model.add(LSTM(64, dropout=0.2, recurrent_dropout=0.2))\n",
        "model.add(Dense(2, activation='softmax'))\n",
        "\n",
        "model.compile(loss='categorical_crossentropy', optimizer='adam', metrics=['accuracy'])\n",
        "model.fit(X_train_seq, y_train_seq, epochs=3, batch_size=64, validation_data=(X_test_seq, y_test_seq))\n"
      ]
    },
    {
      "cell_type": "markdown",
      "source": [
        "##Evaluate Model"
      ],
      "metadata": {
        "id": "9urDRmzSrQil"
      },
      "id": "9urDRmzSrQil"
    },
    {
      "cell_type": "code",
      "source": [
        "from sklearn.metrics import classification_report, accuracy_score, precision_score, recall_score, f1_score\n",
        "\n",
        "def evaluate_model(y_true, y_pred, model_name=\"Model\"):\n",
        "    print(f\"📊 Evaluation Report for {model_name}\")\n",
        "    print(\"-\" * 40)\n",
        "    print(\"Accuracy:\", round(accuracy_score(y_true, y_pred) * 100, 2), \"%\")\n",
        "    print(\"Precision:\", round(precision_score(y_true, y_pred) * 100, 2), \"%\")\n",
        "    print(\"Recall:\", round(recall_score(y_true, y_pred) * 100, 2), \"%\")\n",
        "    print(\"F1 Score:\", round(f1_score(y_true, y_pred) * 100, 2), \"%\")\n",
        "    print(\"\\nDetailed Report:\")\n",
        "    print(classification_report(y_true, y_pred, target_names=[\"Fake\", \"Real\"]))\n",
        "    print(\"=\" * 40)\n",
        "\n",
        "# Evaluate Naive Bayes\n",
        "evaluate_model(y_test, nb_preds, model_name=\"Naive Bayes\")\n",
        "\n",
        "# Evaluate Random Forest\n",
        "evaluate_model(y_test, rf_preds, model_name=\"Random Forest\")\n",
        "\n",
        "\n",
        "# Evaluate LSTM\n",
        "y_pred_probs = model.predict(X_test_seq)\n",
        "y_pred_lstm = y_pred_probs.argmax(axis=1)\n",
        "y_test_labels = y_test_seq.argmax(axis=1)\n",
        "evaluate_model(y_test_labels, y_pred_lstm, model_name=\"LSTM\")"
      ],
      "metadata": {
        "colab": {
          "base_uri": "https://localhost:8080/"
        },
        "id": "yrWMdBWCpGNI",
        "outputId": "8aaa6586-3aca-4da7-e383-c5777ee68078"
      },
      "id": "yrWMdBWCpGNI",
      "execution_count": 18,
      "outputs": [
        {
          "output_type": "stream",
          "name": "stdout",
          "text": [
            "📊 Evaluation Report for Naive Bayes\n",
            "----------------------------------------\n",
            "Accuracy: 94.19 %\n",
            "Precision: 93.0 %\n",
            "Recall: 94.92 %\n",
            "F1 Score: 93.95 %\n",
            "\n",
            "Detailed Report:\n",
            "              precision    recall  f1-score   support\n",
            "\n",
            "        Fake       0.95      0.94      0.94      4710\n",
            "        Real       0.93      0.95      0.94      4270\n",
            "\n",
            "    accuracy                           0.94      8980\n",
            "   macro avg       0.94      0.94      0.94      8980\n",
            "weighted avg       0.94      0.94      0.94      8980\n",
            "\n",
            "========================================\n",
            "📊 Evaluation Report for Random Forest\n",
            "----------------------------------------\n",
            "Accuracy: 99.77 %\n",
            "Precision: 99.72 %\n",
            "Recall: 99.79 %\n",
            "F1 Score: 99.75 %\n",
            "\n",
            "Detailed Report:\n",
            "              precision    recall  f1-score   support\n",
            "\n",
            "        Fake       1.00      1.00      1.00      4710\n",
            "        Real       1.00      1.00      1.00      4270\n",
            "\n",
            "    accuracy                           1.00      8980\n",
            "   macro avg       1.00      1.00      1.00      8980\n",
            "weighted avg       1.00      1.00      1.00      8980\n",
            "\n",
            "========================================\n",
            "\u001b[1m281/281\u001b[0m \u001b[32m━━━━━━━━━━━━━━━━━━━━\u001b[0m\u001b[37m\u001b[0m \u001b[1m18s\u001b[0m 64ms/step\n",
            "📊 Evaluation Report for LSTM\n",
            "----------------------------------------\n",
            "Accuracy: 99.3 %\n",
            "Precision: 99.44 %\n",
            "Recall: 99.09 %\n",
            "F1 Score: 99.26 %\n",
            "\n",
            "Detailed Report:\n",
            "              precision    recall  f1-score   support\n",
            "\n",
            "        Fake       0.99      0.99      0.99      4710\n",
            "        Real       0.99      0.99      0.99      4270\n",
            "\n",
            "    accuracy                           0.99      8980\n",
            "   macro avg       0.99      0.99      0.99      8980\n",
            "weighted avg       0.99      0.99      0.99      8980\n",
            "\n",
            "========================================\n"
          ]
        }
      ]
    },
    {
      "cell_type": "markdown",
      "source": [
        "##Testing Model"
      ],
      "metadata": {
        "id": "n9Mb1tgil7ce"
      },
      "id": "n9Mb1tgil7ce"
    },
    {
      "cell_type": "code",
      "execution_count": 16,
      "id": "990c09b3",
      "metadata": {
        "id": "990c09b3",
        "colab": {
          "base_uri": "https://localhost:8080/"
        },
        "outputId": "4ba8bf1c-0db9-43f1-8c39-ba7311213d99"
      },
      "outputs": [
        {
          "output_type": "stream",
          "name": "stdout",
          "text": [
            "Prediction (Random Forest): Fake News\n",
            "Prediction (Naive Bayes): Real News\n",
            "\u001b[1m1/1\u001b[0m \u001b[32m━━━━━━━━━━━━━━━━━━━━\u001b[0m\u001b[37m\u001b[0m \u001b[1m0s\u001b[0m 74ms/step\n",
            "Prediction (LSTM): Fake News\n"
          ]
        }
      ],
      "source": [
        "\n",
        "def predict_article(text, model_type='rf'):\n",
        "    clean = preprocess(text)\n",
        "    if model_type == 'rf':\n",
        "        vec = tfidf.transform([clean])\n",
        "        pred = rf.predict(vec)[0]\n",
        "    elif model_type == 'nb':\n",
        "        vec = tfidf.transform([clean])\n",
        "        pred = nb_model.predict(vec)[0]\n",
        "    elif model_type == 'lstm':\n",
        "        seq = tokenizer.texts_to_sequences([clean])\n",
        "        pad_seq = pad_sequences(seq, maxlen=max_len)\n",
        "        pred = np.argmax(model.predict(pad_seq), axis=1)[0]\n",
        "    return \"Real News\" if pred == 1 else \"Fake News\"\n",
        "\n",
        "# Example:\n",
        "article = \"The government passed a new law that will affect the economy in 2025.\"\n",
        "print(\"Prediction (Random Forest):\", predict_article(article, model_type='rf'))\n",
        "print(\"Prediction (Naive Bayes):\", predict_article(article, model_type='nb'))\n",
        "print(\"Prediction (LSTM):\", predict_article(article, model_type='lstm'))\n"
      ]
    }
  ],
  "metadata": {
    "colab": {
      "provenance": []
    },
    "kernelspec": {
      "display_name": "Python 3",
      "name": "python3"
    },
    "language_info": {
      "name": "python"
    }
  },
  "nbformat": 4,
  "nbformat_minor": 5
}